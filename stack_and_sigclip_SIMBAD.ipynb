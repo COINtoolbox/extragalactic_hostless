{
 "cells": [
  {
   "cell_type": "code",
   "execution_count": 11,
   "id": "c796a09c-c9e9-4e7c-8af3-c6cfe139db30",
   "metadata": {},
   "outputs": [],
   "source": [
    "import astropy.io.fits as fits\n",
    "from astropy.stats import sigma_clip\n",
    "from astropy.table import Table\n",
    "from astropy.time import Time\n",
    "import glob\n",
    "import gzip\n",
    "import io\n",
    "import matplotlib.pylab as plt\n",
    "from matplotlib.backends.backend_pdf import PdfPages\n",
    "import matplotlib.colors as colors\n",
    "import numpy as np\n",
    "import os\n",
    "import pandas as pd\n",
    "from progressbar import progressbar\n",
    "from scipy import stats"
   ]
  },
  {
   "cell_type": "markdown",
   "id": "e035a661-9539-48bc-97b7-b98fb5589fa2",
   "metadata": {},
   "source": [
    "#### Declaring all auxiliary functions"
   ]
  },
  {
   "cell_type": "code",
   "execution_count": 12,
   "id": "c10df6a9-3466-40d0-9407-756f429893b5",
   "metadata": {},
   "outputs": [],
   "source": [
    "def make_three_plots(data_plot, name, labels, epoch=\"\", pdf=\"\"):\n",
    "    fig, axes = plt.subplots(1,3, figsize=(15,5))\n",
    "    norm = colors.AsinhNorm(vmin=data_plot[0].min(), vmax=data_plot[0].max())\n",
    "    for i, ax in enumerate(axes.flat):\n",
    "        if i < 2:\n",
    "            im = ax.imshow(data_plot[i], norm=norm)\n",
    "        else:\n",
    "            im = ax.imshow(data_plot[i])\n",
    "        if i == 1:\n",
    "            plt.colorbar(im, ax=axes.ravel().tolist())\n",
    "        ax.set_title(f\"{labels[i]}: {name} ({epoch})\")\n",
    "        ax.axvline(63/2., color='red', alpha=0.2)\n",
    "        ax.axhline(63/2., color='red', alpha=0.2)\n",
    "    if pdf != \"\":\n",
    "        pdf.savefig(fig)\n",
    "    plt.close()"
   ]
  },
  {
   "cell_type": "code",
   "execution_count": 13,
   "id": "086ef8bc-c2fc-4edd-b619-d420e863929d",
   "metadata": {},
   "outputs": [],
   "source": [
    "def read_bytes_image(bytes_str):\n",
    "    hdu_list = fits.open(gzip.open(io.BytesIO(bytes_str)))\n",
    "    primary_hdu = hdu_list[0]\n",
    "    return primary_hdu.data\n",
    "\n",
    "def stack_epochs(data_epochs, obj_id, labels, pdf=\"\"):\n",
    "    stacked = [[], [], []]\n",
    "    for i in range(len(data_epochs)):\n",
    "        stacked[i] = np.median(data_epochs[i], axis=0)\n",
    "        # print('Hi', type(stacked[i]), stacked[i].shape)\n",
    "        # print(len(stacked[i][~np.isnan(stacked[i])]))\n",
    "\n",
    "    return stacked"
   ]
  },
  {
   "cell_type": "code",
   "execution_count": 14,
   "id": "3e797bd4-27fe-4123-b252-db5e41835043",
   "metadata": {},
   "outputs": [],
   "source": [
    "def resampling_alberto(input_data, bad_fmt, random_inside=[]):\n",
    "    \n",
    "    if len(random_inside)==0:\n",
    "        if bad_fmt is None:\n",
    "            cleaned_data = input_data[np.where(input_data != None)]\n",
    "        elif bad_fmt is np.nan:\n",
    "            cleaned_data = input_data[~np.isnan(input_data)]\n",
    "        else:\n",
    "            raise Exception(\"Invalid bad format for resampling (None or np.nan)\")\n",
    "        output = np.copy(input_data).reshape(-1)\n",
    "    \n",
    "        data_1d = cleaned_data.reshape(-1)\n",
    "        gkde_obj = stats.gaussian_kde(data_1d.astype(float), 0.1) # bw_method='scott')\n",
    "        x_pts = np.linspace(0, data_1d.max(), 1000)\n",
    "        estimated_pdf = gkde_obj.evaluate(x_pts)\n",
    "        random_inside = gkde_obj.resample(5000)[0]\n",
    "        # plt.figure()\n",
    "        # plt.hist(data_1d, bins=100, density=True)  # bins='scott'\n",
    "        # plt.hist(random_inside, bins=100, density=True)\n",
    "        # plt.plot(x_pts, estimated_pdf, label=\"kde estimated PDF\", color=\"r\")\n",
    "        # plt.xlim(0,1000)\n",
    "        # plt.show()\n",
    "    \n",
    "        # xy_min = [0, 0]\n",
    "        # xy_max = [data_1d.max(), 1.05*estimated_pdf.max()]\n",
    "        # random_xy = np.random.uniform(low=xy_min, high=xy_max, size=(20000,2))\n",
    "        # random_pdf = gkde_obj.evaluate(random_xy[:,0])\n",
    "        # inside_pdf = random_xy[:,1] < random_pdf\n",
    "        # # plt.scatter(random_xy[:,0][inside_pdf], random_xy[:,1][inside_pdf], s=1,color='red')\n",
    "        # # plt.scatter(random_xy[:,0][~inside_pdf], random_xy[:,1][~inside_pdf], s=1,color='blue')\n",
    "        # # plt.plot(x_pts, estimated_pdf, label=\"kde estimated PDF\", color=\"r\")\n",
    "        # # plt.show()\n",
    "        # random_inside = random_xy[:,0][inside_pdf]\n",
    "    \n",
    "    if bad_fmt is None:\n",
    "        num_invalids = len(input_data[np.where(input_data == None)])\n",
    "        output[np.where(output == None)] = np.random.choice(random_inside, size=num_invalids)\n",
    "    elif bad_fmt is np.nan:\n",
    "        num_invalids = len(input_data[np.isnan(input_data)])\n",
    "        output[np.isnan(output)] = np.random.choice(random_inside, size=num_invalids)\n",
    "    \n",
    "    return output.reshape((63,63))\n",
    "\n",
    "def replace_clipped(clipped_sci, clipped_temp, invalid):\n",
    "\n",
    "    # TRY TO FIX IT TOMORROW (4-5 TIMES FASTER)\n",
    "    final_sci, final_temp = np.copy(clipped_sci).reshape(-1), np.copy(clipped_temp).reshape(-1)\n",
    "    num_invalids = len(clipped_sci[np.isnan(clipped_sci)])\n",
    "    dist_sci = np.random.normal(np.median(clipped_sci[~np.isnan(clipped_sci)]),\n",
    "                                np.std(clipped_sci[~np.isnan(clipped_sci)]), num_invalids)\n",
    "    final_sci[np.isnan(final_sci)] = dist_sci\n",
    "    num_invalids = len(clipped_temp[np.isnan(clipped_temp)])\n",
    "    dist_temp = np.random.normal(np.median(clipped_temp[~np.isnan(clipped_temp)]),\n",
    "                                 np.std(clipped_temp[~np.isnan(clipped_temp)]), num_invalids)\n",
    "    final_temp[np.isnan(final_temp)] = dist_temp\n",
    "    # print(final_sci.shape, final_temp.shape)\n",
    "    \n",
    "    return final_sci.reshape((63,63)), final_temp.reshape((63,63))\n",
    "\n",
    "def plot_clipped_and_resampled(clipped, final, obj_id, lab, pdf=\"\"):\n",
    "    fig, axes = plt.subplots(1,2, figsize=(10,4))\n",
    "    im = axes[0].imshow(clipped)\n",
    "    axes[0].set_title(f\"{lab}: {obj_id} (sig-clip)\")\n",
    "    axes[1].imshow(final)\n",
    "    axes[1].set_title(f\"{lab}: {obj_id} (resampled)\")\n",
    "    fig.colorbar(im, ax=axes.ravel().tolist())\n",
    "    if pdf != \"\":\n",
    "        pdf.savefig(fig)\n",
    "    plt.close()"
   ]
  },
  {
   "cell_type": "markdown",
   "id": "5fa805d7-431f-40cc-9121-5aadbdab9e88",
   "metadata": {},
   "source": [
    "#### Declaring table with all the objects"
   ]
  },
  {
   "cell_type": "code",
   "execution_count": 15,
   "id": "24c3aacc-7add-4fbe-a06c-acebd86bbd83",
   "metadata": {},
   "outputs": [],
   "source": [
    "columns_63_63 = [[np.ones((63, 63))]]*7\n",
    "nms = ['stacked_science', 'stacked_template', 'stacked_difference', 'clipped_science',\n",
    "       'clipped_template', 'resampled_science', 'resampled_template']\n",
    "final_table = Table(columns_63_63, names=nms)\n",
    "final_table.add_column(['example'], name='obj_id', index=0)\n",
    "final_table.add_column([1], name='n_epochs', index=1)\n",
    "final_table.remove_row(0)"
   ]
  },
  {
   "cell_type": "markdown",
   "id": "7819c994-13ee-4450-ba25-23b121cff936",
   "metadata": {},
   "source": [
    "#### Taking everything from Simbad (Priscila selection vs. Emille YSOs)"
   ]
  },
  {
   "cell_type": "code",
   "execution_count": 16,
   "id": "179fcdd0-c14c-43e9-b846-260a7970da3b",
   "metadata": {},
   "outputs": [
    {
     "name": "stdout",
     "output_type": "stream",
     "text": [
      "{'BLLac', 'AGN_Candidate', 'SN*_Candidate', 'Candidate_SN*', 'Blazar', 'Inexistent', 'QSO', 'QSO_Candidate', 'AGN', 'SN', 'Seyfert_1', 'Seyfert_2', 'Blazar_Candidate', 'Seyfert', 'SN candidate', None}\n"
     ]
    }
   ],
   "source": [
    "data_folder = \"/media3/CRP7/hosts/data/\"\n",
    "priscila_simbad = data_folder + 'EXTRAGALACTIC/extragal_nocathost.pkl'\n",
    "priscila_simbad = pd.read_pickle(priscila_simbad)[:2109]\n",
    "priscila_classes = set(priscila_simbad['v:classification_best'])\n",
    "# simbad_yso = priscila_simbad[priscila_simbad['v:classification_best']=='YSO']\n",
    "print(priscila_classes)"
   ]
  },
  {
   "cell_type": "code",
   "execution_count": 17,
   "id": "a48e8520-5881-4459-b957-35a9a047e4a4",
   "metadata": {
    "scrolled": true
   },
   "outputs": [
    {
     "name": "stderr",
     "output_type": "stream",
     "text": [
      "100% (1584 of 1584) |####################| Elapsed Time: 0:00:07 Time:  0:00:07\n"
     ]
    },
    {
     "name": "stdout",
     "output_type": "stream",
     "text": [
      "SIMBAD_Apr2023_batch_0.pickle 0 1584 5\n"
     ]
    },
    {
     "name": "stderr",
     "output_type": "stream",
     "text": [
      "100% (598 of 598) |######################| Elapsed Time: 0:00:02 Time:  0:00:02\n"
     ]
    },
    {
     "name": "stdout",
     "output_type": "stream",
     "text": [
      "SIMBAD_Apr2023_batch_1.pickle 1 2182 10\n"
     ]
    },
    {
     "name": "stderr",
     "output_type": "stream",
     "text": [
      "100% (397 of 397) |######################| Elapsed Time: 0:00:01 Time:  0:00:01\n"
     ]
    },
    {
     "name": "stdout",
     "output_type": "stream",
     "text": [
      "SIMBAD_Apr2023_batch_2.pickle 2 2579 15\n"
     ]
    },
    {
     "name": "stderr",
     "output_type": "stream",
     "text": [
      "100% (234 of 234) |######################| Elapsed Time: 0:00:01 Time:  0:00:01\n"
     ]
    },
    {
     "name": "stdout",
     "output_type": "stream",
     "text": [
      "SIMBAD_Apr2023_batch_3.pickle 3 2813 18\n"
     ]
    }
   ],
   "source": [
    "### 1) Using the *** obj_info *** folder\n",
    "\n",
    "# classes = os.listdir(data_folder + 'SIMBAD/Apr2023/obj_info')\n",
    "# classes = [x.split('=')[1] for x in classes if '.pkl' not in x]\n",
    "# print(sorted(classes))\n",
    "\n",
    "class_name = \"Seyfert\"  # add YSO_Candidate later...\n",
    "simbad_folder = f'{data_folder}/SIMBAD/Apr2023/obj_info/finkclass={class_name}/'\n",
    "# objects_YSO = pd.read_pickle(simbad_folder + '../objects_YSO.pkl')\n",
    "# print(objects_YSO) # 2246 items (1123 unique IDs)\n",
    "\n",
    "# Let's try to reproduce this object list, as a double check\n",
    "dict_mjds, dict_sci_img, dict_temp_img, dict_diff_img = {}, {}, {}, {}\n",
    "# for pkl_file in progressbar(sorted(os.listdir(simbad_folder))[:1]): # make all later...\n",
    "for pkl_file in sorted(os.listdir(simbad_folder)):\n",
    "    pkl_data = pd.read_pickle(simbad_folder + pkl_file) # this takes long\n",
    "    for idx in progressbar(range(len(pkl_data))):\n",
    "        obj_id = pkl_data.iloc[idx]['i:objectId']\n",
    "        mjd = pkl_data.iloc[idx]['i:jd']\n",
    "        sci_img = np.array(pkl_data.iloc[idx]['b:cutoutScience_stampData'])\n",
    "        temp_img = np.array(pkl_data.iloc[idx]['b:cutoutTemplate_stampData'])\n",
    "        diff_img = np.array(pkl_data.iloc[idx]['b:cutoutDifference_stampData'])\n",
    "        sci_img[np.where(sci_img == None)] = np.nan\n",
    "        temp_img[np.where(temp_img == None)] = np.nan\n",
    "        diff_img[np.where(diff_img == None)] = np.nan\n",
    "        # print(obj_id, mjd, sci_img.shape, temp_img.shape, diff_img.shape)\n",
    "\n",
    "        sci_img = sci_img.astype(float)\n",
    "        temp_img = temp_img.astype(float)\n",
    "        diff_img = diff_img.astype(float)\n",
    "        if len(sci_img[~np.isnan(sci_img)]) != 0:\n",
    "            if obj_id not in dict_mjds.keys():\n",
    "                dict_mjds[obj_id] = [mjd]\n",
    "                dict_sci_img[obj_id] = [sci_img]\n",
    "                dict_temp_img[obj_id] = [temp_img]\n",
    "                dict_diff_img[obj_id] = [diff_img]\n",
    "            else:\n",
    "                dict_mjds[obj_id].append(mjd)\n",
    "                dict_sci_img[obj_id].append(sci_img)\n",
    "                dict_temp_img[obj_id].append(temp_img)\n",
    "                dict_diff_img[obj_id].append(diff_img)\n",
    "    \n",
    "    # print(idx)\n",
    "    print(pkl_file, pkl_file.split('_')[-1].split('.')[0], end=' ')\n",
    "    number_of_imgs = sum(len(dict_mjds[key]) for key in dict_mjds.keys())\n",
    "    print(number_of_imgs, len(dict_mjds.keys()))"
   ]
  },
  {
   "cell_type": "code",
   "execution_count": 18,
   "id": "3562ed7b-4d00-4303-83eb-4a207af2e54e",
   "metadata": {},
   "outputs": [],
   "source": [
    "### 2) Using the *** ftransfer_ztf_2023-08-31_137151 *** folder (DON'T USE!!!)\n",
    "\n",
    "# simbad_folder = data_folder + 'SIMBAD/Apr2023/ftransfer_ztf_2023-08-31_137151/'\n",
    "# classes = [x.split('=')[1] for x in os.listdir(simbad_folder) if '.pkl' not in x]\n",
    "# # print(sorted(classes))\n",
    "\n",
    "# class_name = \"YSO\"  # add YSO_Candidate later...\n",
    "# simbad_folder += f'finkclass={class_name}/'\n",
    "\n",
    "# # There are 1271 parquet files, containing 1125 unique IDs (only 2671 imgs)\n",
    "# dict_mjds, dict_sci_img, dict_temp_img, dict_diff_img = {}, {}, {}, {}\n",
    "# for parquet_file in progressbar(sorted(os.listdir(simbad_folder))):\n",
    "#     parquet_data = pd.read_parquet(simbad_folder + parquet_file)\n",
    "#     for idx in range(len(parquet_data)):\n",
    "#         obj_id = parquet_data.iloc[idx]['objectId']\n",
    "#         mjd = Time(parquet_data.iloc[idx]['timestamp']).to_value('mjd')\n",
    "#         sci_img = read_bytes_image(parquet_data.iloc[idx]['cutoutScience']['stampData'])\n",
    "#         temp_img = read_bytes_image(parquet_data.iloc[idx]['cutoutTemplate']['stampData'])\n",
    "#         diff_img = read_bytes_image(parquet_data.iloc[idx]['cutoutDifference']['stampData'])\n",
    "        \n",
    "#         if obj_id not in dict_mjds.keys():\n",
    "#             dict_mjds[obj_id] = [mjd]\n",
    "#             dict_sci_img[obj_id] = [sci_img]\n",
    "#             dict_temp_img[obj_id] = [temp_img]\n",
    "#             dict_diff_img[obj_id] = [diff_img]\n",
    "#         else:\n",
    "#             dict_mjds[obj_id].append(mjd)\n",
    "#             dict_sci_img[obj_id].append(sci_img)\n",
    "#             dict_temp_img[obj_id].append(temp_img)\n",
    "#             dict_diff_img[obj_id].append(diff_img)\n",
    "            \n",
    "# # print(dict_mjds, dict_sci_img, dict_temp_img, dict_diff_img)\n",
    "\n",
    "# number_of_ids = [len(dict_mjds[key]) for key in dict_mjds.keys()]\n",
    "# print(len(number_of_ids), np.sum(number_of_ids))\n",
    "# print(number_of_ids)"
   ]
  },
  {
   "cell_type": "markdown",
   "id": "f55901d5-7f72-42bb-b6d7-202c940867f6",
   "metadata": {},
   "source": [
    "#### Stacking images for each of the 1123(5) objects"
   ]
  },
  {
   "cell_type": "code",
   "execution_count": 19,
   "id": "02aebfbb-a089-4f4a-823e-431134b56797",
   "metadata": {
    "scrolled": true
   },
   "outputs": [
    {
     "name": "stderr",
     "output_type": "stream",
     "text": [
      "100% (18 of 18) |########################| Elapsed Time: 0:00:34 Time:  0:00:34\n"
     ]
    }
   ],
   "source": [
    "labels = ['Science', 'Template', 'Difference']\n",
    "pdf_dir = f'{data_folder}/SIMBAD/images_stack_sigclip/finkclass={class_name}/'\n",
    "if not os.path.isdir(pdf_dir): os.mkdir(pdf_dir)\n",
    "\n",
    "# idx = -1\n",
    "exception_ids = []\n",
    "for key, value in progressbar(dict_mjds.items()):\n",
    "\n",
    "    # idx += 1\n",
    "    # if idx < 977:\n",
    "    #     continue\n",
    "    \n",
    "    # print(key, len(value))\n",
    "    data_epochs = [dict_sci_img[key], dict_temp_img[key], dict_diff_img[key]]\n",
    "    # print(len(data_epochs[0]), 'epochs:', data_epochs[0][0].shape)\n",
    "    pdf = PdfPages(f'{pdf_dir}/{key}_plots.pdf')\n",
    "    # pdf = \"\"\n",
    "    try:\n",
    "        stacked = stack_epochs(data_epochs, key, labels, pdf)\n",
    "        stacked[0] = resampling_alberto(stacked[0], np.nan)\n",
    "        stacked[1] = resampling_alberto(stacked[1], np.nan)\n",
    "        stacked[2] = resampling_alberto(stacked[2], np.nan)\n",
    "    except Exception:\n",
    "        # print(f'Object {key} skipped, it has only strange values...')\n",
    "        exception_ids.append(key)\n",
    "        pdf.close()\n",
    "        continue\n",
    "    make_three_plots(stacked, key, labels, \"median\", pdf=pdf)\n",
    "        \n",
    "    clipped_sci = sigma_clip(stacked[0], sigma=3, maxiters=10)  # 3 or 5\n",
    "    clipped_temp = sigma_clip(stacked[1], sigma=3, maxiters=10)  # 3 or 5\n",
    "    clipped_sci, clipped_temp = clipped_sci.filled(np.nan), clipped_temp.filled(np.nan)\n",
    "    # final_sci, final_temp = replace_clipped(clipped_sci, clipped_temp, np.ma.masked)\n",
    "    final_sci = resampling_alberto(clipped_sci, np.nan)\n",
    "    final_temp = resampling_alberto(clipped_temp, np.nan)\n",
    "    plot_clipped_and_resampled(clipped_sci, final_sci, key, \"Science\", pdf)\n",
    "    plot_clipped_and_resampled(clipped_temp, final_temp, key, \"Template\", pdf)\n",
    "    pdf.close()\n",
    "    to_table = [key, len(data_epochs[0]), stacked[0], stacked[1], stacked[2],\n",
    "                clipped_sci, clipped_temp, final_sci, final_temp]\n",
    "    final_table.add_row(to_table)"
   ]
  },
  {
   "cell_type": "markdown",
   "id": "9bacf9b3-d680-4235-ae26-284ca66a2cf8",
   "metadata": {},
   "source": [
    "#### Saving final table"
   ]
  },
  {
   "cell_type": "code",
   "execution_count": 20,
   "id": "5e24b7f8-1944-4261-893d-4bc1d0048798",
   "metadata": {},
   "outputs": [
    {
     "name": "stdout",
     "output_type": "stream",
     "text": [
      "final_table has 9 columns and 18 rows\n",
      "[]\n"
     ]
    }
   ],
   "source": [
    "print(f'final_table has {len(final_table.colnames)} columns and {len(final_table)} rows')\n",
    "table_name = f'{data_folder}/SIMBAD/SIMBAD_{class_name}_stacked_sigclipped_resampled.fits'\n",
    "final_table.write(table_name, format='fits', overwrite=True)\n",
    "print(exception_ids)"
   ]
  }
 ],
 "metadata": {
  "kernelspec": {
   "display_name": "Python 3 (ipykernel)",
   "language": "python",
   "name": "python3"
  },
  "language_info": {
   "codemirror_mode": {
    "name": "ipython",
    "version": 3
   },
   "file_extension": ".py",
   "mimetype": "text/x-python",
   "name": "python",
   "nbconvert_exporter": "python",
   "pygments_lexer": "ipython3",
   "version": "3.10.10"
  }
 },
 "nbformat": 4,
 "nbformat_minor": 5
}
